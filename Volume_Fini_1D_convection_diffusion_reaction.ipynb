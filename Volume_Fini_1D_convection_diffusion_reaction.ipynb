{
 "cells": [
  {
   "cell_type": "code",
   "execution_count": 1,
   "metadata": {},
   "outputs": [],
   "source": [
    "import scipy as sp\n",
    "import scipy.sparse as spsp\n",
    "import numpy as np\n",
    "from math import cos, tan, exp,log, sin\n",
    "from scipy.sparse import dia_matrix as jds\n",
    "import scipy.sparse.linalg as spl\n",
    "from scipy.sparse.linalg import spsolve\n",
    "import matplotlib.pyplot as plt\n",
    "from mpl_toolkits.mplot3d import axes3d, Axes3D\n",
    "from sklearn.preprocessing import  MinMaxScaler\n",
    "import seaborn as sns"
   ]
  },
  {
   "cell_type": "code",
   "execution_count": 2,
   "metadata": {},
   "outputs": [],
   "source": [
    "class SolverVol1D:\n",
    "    \n",
    "    def __init__(self, f, u, a, b, n, lamda = lambda x: 1):\n",
    "        self.f = f\n",
    "        self.u = u\n",
    "        self.n = n\n",
    "        self.lamda = lamda\n",
    "        self.a = a\n",
    "        self.b = b\n",
    "        self.h = 1 / n\n",
    "        self.fvector = []\n",
    "        self.fmail = np.linspace(0, 1, n + 1) #vecteur contenant les n + 1 points du maillage        \n",
    "        self.solexacte = []  #vecteur contenant les solutions exactes\n",
    "        for i in np.arange(1, self.n):\n",
    "            self.solexacte.append(u(self.fmail[i]))\n",
    "            \n",
    "    #stockage de la matrice au format JDS\n",
    "    def initMatrix(self):\n",
    "        offsets = np.array([-1, 0, 1])\n",
    "        data0, data1, data2 = [], [], []\n",
    "        c = self.b*self.h\n",
    "        for i in np.arange(1, self.n):\n",
    "            lamdai = self.lamda(self.fmail[i])\n",
    "            lamdai1 = self.lamda(self.fmail[i + 1])\n",
    "            lamdai2 = self.lamda(self.fmail[i - 1])\n",
    "            sigmai = (2 * lamdai * lamdai1) / (self.h * (lamdai + lamdai1))\n",
    "            sigmai1 = (2 * lamdai * lamdai2) / (self.h * (lamdai + lamdai2))\n",
    "            if self.a > 0:\n",
    "                data1.append(-1 * sigmai)\n",
    "                data2.append(-1 * (sigmai1 + self.a))\n",
    "                if i== 1:\n",
    "                    data0.append(self.a + sigmai1 + 2 * self.lamda(self.fmail[1]) / self.h)\n",
    "                elif i== self.n -1:\n",
    "                    data0.append(self.a + sigmai1 + 2 * self.lamda(self.fmail[1]) / self.h)\n",
    "                else:\n",
    "                    data0.append(sigmai + sigmai1 + self.a + c)\n",
    "                \n",
    "                #On va aussi stocker le vecteur contenant les n - 1 points de f\n",
    "                if i == 1:\n",
    "                    self.fvector.append(self.h * self.f(self.fmail[i]) + (self.a + 2 * self.lamda(self.fmail[1]) / self.h) * self.u(self.fmail[0]))\n",
    "                elif i == self.n - 1:\n",
    "                    self.fvector.append(self.h * self.f(self.fmail[i]) + (2 * self.lamda(self.fmail[self.n]) / self.h) * self.u(self.fmail[self.n]))\n",
    "                else:\n",
    "                    self.fvector.append(self.h * self.f(self.fmail[i]))\n",
    "            else:\n",
    "                data2.append(-1 * sigmai1)\n",
    "                data1.append(-1 * sigmai + self.a)\n",
    "                if i== 1:\n",
    "                    data0.append(self.a + sigmai1 + 2 * self.lamda(self.fmail[1]) / self.h)\n",
    "                elif i== self.n -1:\n",
    "                    data0.append(self.a + sigmai1 + 2 * self.lamda(self.fmail[1]) / self.h)\n",
    "                else:\n",
    "                    data0.append(sigmai + sigmai1 + self.a + c)\n",
    "                \n",
    "                #On va aussi stocker le vecteur contenant les n - 1 points de f\n",
    "                if i == 1:\n",
    "                    self.fvector.append(self.h * self.f(self.fmail[i]) + (self.a + 2 * self.lamda(self.fmail[1]) / self.h) * self.u(self.fmail[0]))\n",
    "                elif i == self.n - 1:\n",
    "                    self.fvector.append(self.h * self.f(self.fmail[i]) + (2 * self.lamda(self.fmail[self.n]) / self.h) * self.u(self.fmail[self.n]))\n",
    "                else:\n",
    "                    self.fvector.append(self.h * self.f(self.fmail[i]))\n",
    "        data2 = data2[1:]\n",
    "        data2.append(0)\n",
    "        data1 = [0] + data1[:-1]\n",
    "        data = [data2, data0, data1]\n",
    "        self.jdsdata = jds((data, offsets), shape = (self.n - 1, self.n - 1))\n",
    "        return self.jdsdata\n",
    "    \n",
    "    #resolution du systeme d'equation\n",
    "    def solve(self):\n",
    "        mat = self.jdsdata.tocsc()\n",
    "        # print(mat)\n",
    "\n",
    "        # self.solapproche = spsolve(self.jdsdata, self.fvector)\n",
    "\n",
    "        lu = spl.splu(mat)\n",
    "        self.solapproche = lu.solve(np.array(self.fvector))\n",
    "\n",
    "        return self.solapproche"
   ]
  },
  {
   "cell_type": "code",
   "execution_count": 3,
   "metadata": {},
   "outputs": [],
   "source": [
    "# Norme utilisé pour les tests avec les fonctions non nulles simple\n",
    "def norm(exact_solution,  approximated_solution):\n",
    "    return np.linalg.norm(exact_solution - approximated_solution) / np.linalg.norm(exact_solution)"
   ]
  },
  {
   "cell_type": "code",
   "execution_count": 4,
   "metadata": {},
   "outputs": [
    {
     "data": {
      "text/plain": [
       "0.02297163027219434"
      ]
     },
     "execution_count": 4,
     "metadata": {},
     "output_type": "execute_result"
    }
   ],
   "source": [
    "solver = SolverVol1D(lambda x : -6*x,lambda x:x**3, 0, 0,100)\n",
    "solver.initMatrix()\n",
    "appr = solver.solve()\n",
    "# print(solver.jdsdata.toarray())\n",
    "norm(solver.solexacte, appr)"
   ]
  },
  {
   "cell_type": "code",
   "execution_count": 11,
   "metadata": {},
   "outputs": [],
   "source": [
    "from sklearn.linear_model import LinearRegression\n",
    "def vitesseConvergence(f, u, n1, n2, a, b, lamda = lambda x: 1):\n",
    "    taille = 20\n",
    "    tabh = np.array([k for k in range(n1,n2 + taille, taille)])\n",
    "    error = []\n",
    "    X= []\n",
    "    for elem in range(0, len(tabh)):\n",
    "        solver = SolverVol1D(f, u, a, b, tabh[elem], lamda)\n",
    "        solver.initMatrix()\n",
    "        s_appr = solver.solve()\n",
    "        err = abs(s_appr-solver.solexacte)\n",
    "        error.append(log(max(err)))\n",
    "    X= np.array([log(max(1/tabh[i],1/tabh[i])) for i in range(0, len(tabh))])\n",
    "    reg = LinearRegression()\n",
    "    reg.fit(X.reshape(-1,1), np.array(error))\n",
    "    plt.figure()\n",
    "    plt.plot(X,error)\n",
    "    return reg.coef_"
   ]
  },
  {
   "cell_type": "code",
   "execution_count": 29,
   "metadata": {},
   "outputs": [
    {
     "data": {
      "text/plain": [
       "array([0.13307352])"
      ]
     },
     "execution_count": 29,
     "metadata": {},
     "output_type": "execute_result"
    },
    {
     "data": {
      "image/png": "[encoded data removed]",
      "text/plain": [
       "<Figure size 432x288 with 1 Axes>"
      ]
     },
     "metadata": {
      "needs_background": "light"
     },
     "output_type": "display_data"
    }
   ],
   "source": [
    "vitesseConvergence(lambda x: x**3 -6*x + 3*x**2 , lambda x: x**3, 20, 100, 0, 1 )"
   ]
  },
  {
   "cell_type": "code",
   "execution_count": 17,
   "metadata": {},
   "outputs": [],
   "source": [
    "from sklearn.linear_model import LinearRegression\n",
    "def courbe(f, u, n1, n2, a, b, lamda = lambda x: 1):\n",
    "    taille = 20\n",
    "    soltex = []\n",
    "    maill = []\n",
    "    soltAppr = []    \n",
    "    solver = SolverVol1D(f,u, a, b, n2, lamda)\n",
    "    maill = np.linspace(0, 1, n2-1)\n",
    "    solver.initMatrix()\n",
    "    # soltex= solver.exactValues()\n",
    "    soltAppr = solver.solve()\n",
    "    plt.figure()\n",
    "    max_value = max(soltAppr)\n",
    "    plt.plot(maill,soltAppr/max_value)\n",
    "    err = norm(solver.solexacte, appr)\n",
    "    #plt.plot(maill, solver.solexacte/max_value)\n",
    "    plt.legend(['Solution Approchée', 'Solution Exacte'])\n",
    "    print(\"Erreur : {}\".format(err))"
   ]
  },
  {
   "cell_type": "code",
   "execution_count": 16,
   "metadata": {},
   "outputs": [
    {
     "data": {
      "image/png": "[encoded data removed]",
      "text/plain": [
       "<Figure size 432x288 with 1 Axes>"
      ]
     },
     "metadata": {
      "needs_background": "light"
     },
     "output_type": "display_data"
    }
   ],
   "source": [
    "courbe(lambda x: 12*(x**2) + 6*x , lambda x: -(x**4 + x**3), 20, 3000 , 0 , 0)"
   ]
  },
  {
   "cell_type": "code",
   "execution_count": 23,
   "metadata": {},
   "outputs": [],
   "source": [
    "\"'cette première fonction de test c'est celle des Polynomes en dim2 qui renvoit true ou False si\"\n",
    "\"l'erreur est plus petite que la tolerance\"\n",
    "def testFunctionSimple(f, u, a, b, n, tol, lamda = lambda x: 1):\n",
    "    x = SolverVol1D(f, u, a, b, n, lamda)\n",
    "    x.initMatrix()\n",
    "    s_appr = x.solve() \n",
    "    error = norm(x.solexacte, s_appr)\n",
    "    # error = max(abs((s_appr-x.solexacte))/x.solexacte)\n",
    "    print('error =', error)\n",
    "    return  error < tol\n",
    "\n",
    "def testFunctionNulle(f, u, a, b, n, tol, lamda = lambda x: 1):\n",
    "    x = SolverVol1D(f, u, a, b, n, lamda)\n",
    "    x.initMatrix()\n",
    "    s_appr = x.solve()\n",
    "    error = np.linalg.norm(x.solexacte - s_appr)\n",
    "    # error = max(abs((s_appr-x.solexacte)))\n",
    "    print('error =', error)\n",
    "    return error < tol\n",
    "\n",
    "#Cette deuxième fonction c'est pour d'autres types de fonctions dont on connait la solution le test est réussi si p>=2\n",
    "def testFunctionComplex(f, u, a, b, n, m, ordre, tol, lamda = lambda x: 1):\n",
    "    vitConv = vitesseConvergence(f,u,n,m)\n",
    "    return vitConv >= ordre - tol"
   ]
  },
  {
   "cell_type": "code",
   "execution_count": 24,
   "metadata": {},
   "outputs": [
    {
     "data": {
      "text/plain": [
       "[<matplotlib.lines.Line2D at 0x7f8754684d00>]"
      ]
     },
     "execution_count": 24,
     "metadata": {},
     "output_type": "execute_result"
    },
    {
     "data": {
      "image/png": "[encoded data removed]",
      "text/plain": [
       "<Figure size 432x288 with 1 Axes>"
      ]
     },
     "metadata": {
      "needs_background": "light"
     },
     "output_type": "display_data"
    }
   ],
   "source": [
    "from matplotlib.pyplot import plot\n",
    "\n",
    "X = []\n",
    "Y = []\n",
    "for i in range(50, 300, 20):\n",
    "    x = SolverVol1D(lambda x: 1+x, lambda x: x, 1, 1, i)\n",
    "    x.initMatrix()\n",
    "    appr = x.solve()\n",
    "    \n",
    "    Y.append((max(abs((appr-x.solexacte)))))\n",
    "    X.append(i)\n",
    "\n",
    "plot(X,Y)"
   ]
  },
  {
   "cell_type": "code",
   "execution_count": 25,
   "metadata": {},
   "outputs": [
    {
     "name": "stdout",
     "output_type": "stream",
     "text": [
      "  (1, 0)\t-11.0\n",
      "  (2, 1)\t-11.0\n",
      "  (3, 2)\t-11.0\n",
      "  (4, 3)\t-11.0\n",
      "  (5, 4)\t-11.0\n",
      "  (6, 5)\t-11.0\n",
      "  (7, 6)\t-11.0\n",
      "  (8, 7)\t-11.0\n",
      "  (0, 0)\t31.0\n",
      "  (1, 1)\t21.1\n",
      "  (2, 2)\t21.1\n",
      "  (3, 3)\t21.1\n",
      "  (4, 4)\t21.1\n",
      "  (5, 5)\t21.1\n",
      "  (6, 6)\t21.1\n",
      "  (7, 7)\t21.1\n",
      "  (8, 8)\t31.0\n",
      "  (0, 1)\t-10.0\n",
      "  (1, 2)\t-10.0\n",
      "  (2, 3)\t-10.0\n",
      "  (3, 4)\t-10.0\n",
      "  (4, 5)\t-10.0\n",
      "  (5, 6)\t-10.0\n",
      "  (6, 7)\t-10.0\n",
      "  (7, 8)\t-10.0\n"
     ]
    },
    {
     "data": {
      "text/plain": [
       "array([0.05681498, 0.16512644, 0.27392031, 0.38333277, 0.4935198 ,\n",
       "       0.60466073, 0.71696237, 0.83066379, 0.94604199])"
      ]
     },
     "execution_count": 25,
     "metadata": {},
     "output_type": "execute_result"
    }
   ],
   "source": [
    "x = SolverVol1D(lambda x: 1+x, lambda x: x, 1, 1, 10)\n",
    "mat = x.initMatrix()\n",
    "print(mat)\n",
    "x.solve()"
   ]
  },
  {
   "cell_type": "code",
   "execution_count": 26,
   "metadata": {},
   "outputs": [
    {
     "data": {
      "text/plain": [
       "[0.1,\n",
       " 0.2,\n",
       " 0.30000000000000004,\n",
       " 0.4,\n",
       " 0.5,\n",
       " 0.6000000000000001,\n",
       " 0.7000000000000001,\n",
       " 0.8,\n",
       " 0.9]"
      ]
     },
     "execution_count": 26,
     "metadata": {},
     "output_type": "execute_result"
    }
   ],
   "source": [
    "x.solexacte"
   ]
  },
  {
   "cell_type": "code",
   "execution_count": 28,
   "metadata": {},
   "outputs": [
    {
     "name": "stdout",
     "output_type": "stream",
     "text": [
      "Test  0 : f(x) = 0 , a = 1 , b = 1 , n = 5 , tol = 1E-8 -> u(x) = 1 \n",
      "error = 0.01832228930588396\n",
      "\t Is it OK ?   False \n",
      "\n"
     ]
    },
    {
     "ename": "ValueError",
     "evalue": "operands could not be broadcast together with shapes (299,) (289,) ",
     "output_type": "error",
     "traceback": [
      "\u001b[0;31m---------------------------------------------------------------------------\u001b[0m",
      "\u001b[0;31mValueError\u001b[0m                                Traceback (most recent call last)",
      "\u001b[0;32m<ipython-input-28-e8f9fb41e541>\u001b[0m in \u001b[0;36m<module>\u001b[0;34m\u001b[0m\n\u001b[1;32m      8\u001b[0m     \u001b[0mprint\u001b[0m\u001b[0;34m(\u001b[0m \u001b[0;34m'Test '\u001b[0m\u001b[0;34m,\u001b[0m\u001b[0mi\u001b[0m \u001b[0;34m,\u001b[0m \u001b[0;34m':'\u001b[0m\u001b[0;34m,\u001b[0m\u001b[0mDE\u001b[0m\u001b[0;34m[\u001b[0m\u001b[0mi\u001b[0m\u001b[0;34m]\u001b[0m\u001b[0;34m[\u001b[0m\u001b[0;34m'DE'\u001b[0m\u001b[0;34m]\u001b[0m\u001b[0;34m)\u001b[0m\u001b[0;34m\u001b[0m\u001b[0;34m\u001b[0m\u001b[0m\n\u001b[1;32m      9\u001b[0m     \u001b[0mprint\u001b[0m\u001b[0;34m(\u001b[0m \u001b[0;34m'\\t Is it OK ?  '\u001b[0m \u001b[0;34m,\u001b[0m  \u001b[0mtestFunctionSimple\u001b[0m\u001b[0;34m(\u001b[0m\u001b[0mDE\u001b[0m\u001b[0;34m[\u001b[0m\u001b[0mi\u001b[0m\u001b[0;34m]\u001b[0m\u001b[0;34m[\u001b[0m\u001b[0;34m'f'\u001b[0m\u001b[0;34m]\u001b[0m\u001b[0;34m,\u001b[0m \u001b[0mDE\u001b[0m\u001b[0;34m[\u001b[0m\u001b[0mi\u001b[0m\u001b[0;34m]\u001b[0m\u001b[0;34m[\u001b[0m\u001b[0;34m'u'\u001b[0m\u001b[0;34m]\u001b[0m\u001b[0;34m,\u001b[0m \u001b[0mDE\u001b[0m\u001b[0;34m[\u001b[0m\u001b[0mi\u001b[0m\u001b[0;34m]\u001b[0m\u001b[0;34m[\u001b[0m\u001b[0;34m'a'\u001b[0m\u001b[0;34m]\u001b[0m\u001b[0;34m,\u001b[0m \u001b[0mDE\u001b[0m\u001b[0;34m[\u001b[0m\u001b[0mi\u001b[0m\u001b[0;34m]\u001b[0m\u001b[0;34m[\u001b[0m\u001b[0;34m'b'\u001b[0m\u001b[0;34m]\u001b[0m\u001b[0;34m,\u001b[0m \u001b[0mDE\u001b[0m\u001b[0;34m[\u001b[0m\u001b[0mi\u001b[0m\u001b[0;34m]\u001b[0m\u001b[0;34m[\u001b[0m\u001b[0;34m'n'\u001b[0m\u001b[0;34m]\u001b[0m\u001b[0;34m,\u001b[0m \u001b[0mDE\u001b[0m\u001b[0;34m[\u001b[0m\u001b[0mi\u001b[0m\u001b[0;34m]\u001b[0m\u001b[0;34m[\u001b[0m\u001b[0;34m'tol'\u001b[0m\u001b[0;34m]\u001b[0m \u001b[0;34m)\u001b[0m\u001b[0;34m,\u001b[0m\u001b[0;34m'\\n'\u001b[0m\u001b[0;34m)\u001b[0m\u001b[0;34m\u001b[0m\u001b[0;34m\u001b[0m\u001b[0m\n\u001b[0;32m---> 10\u001b[0;31m     \u001b[0mcourbe\u001b[0m\u001b[0;34m(\u001b[0m\u001b[0mDE\u001b[0m\u001b[0;34m[\u001b[0m\u001b[0mi\u001b[0m\u001b[0;34m]\u001b[0m\u001b[0;34m[\u001b[0m\u001b[0;34m'f'\u001b[0m\u001b[0;34m]\u001b[0m\u001b[0;34m,\u001b[0m \u001b[0mDE\u001b[0m\u001b[0;34m[\u001b[0m\u001b[0mi\u001b[0m\u001b[0;34m]\u001b[0m\u001b[0;34m[\u001b[0m\u001b[0;34m'u'\u001b[0m\u001b[0;34m]\u001b[0m\u001b[0;34m,\u001b[0m \u001b[0;36m20\u001b[0m\u001b[0;34m,\u001b[0m \u001b[0;36m300\u001b[0m \u001b[0;34m,\u001b[0m \u001b[0mDE\u001b[0m\u001b[0;34m[\u001b[0m\u001b[0mi\u001b[0m\u001b[0;34m]\u001b[0m\u001b[0;34m[\u001b[0m\u001b[0;34m'a'\u001b[0m\u001b[0;34m]\u001b[0m\u001b[0;34m,\u001b[0m \u001b[0mDE\u001b[0m\u001b[0;34m[\u001b[0m\u001b[0mi\u001b[0m\u001b[0;34m]\u001b[0m\u001b[0;34m[\u001b[0m\u001b[0;34m'b'\u001b[0m\u001b[0;34m]\u001b[0m \u001b[0;34m)\u001b[0m\u001b[0;34m\u001b[0m\u001b[0;34m\u001b[0m\u001b[0m\n\u001b[0m",
      "\u001b[0;32m<ipython-input-17-8a0784945b15>\u001b[0m in \u001b[0;36mcourbe\u001b[0;34m(f, u, n1, n2, a, b, lamda)\u001b[0m\n\u001b[1;32m     13\u001b[0m     \u001b[0mmax_value\u001b[0m \u001b[0;34m=\u001b[0m \u001b[0mmax\u001b[0m\u001b[0;34m(\u001b[0m\u001b[0msoltAppr\u001b[0m\u001b[0;34m)\u001b[0m\u001b[0;34m\u001b[0m\u001b[0;34m\u001b[0m\u001b[0m\n\u001b[1;32m     14\u001b[0m     \u001b[0mplt\u001b[0m\u001b[0;34m.\u001b[0m\u001b[0mplot\u001b[0m\u001b[0;34m(\u001b[0m\u001b[0mmaill\u001b[0m\u001b[0;34m,\u001b[0m\u001b[0msoltAppr\u001b[0m\u001b[0;34m/\u001b[0m\u001b[0mmax_value\u001b[0m\u001b[0;34m)\u001b[0m\u001b[0;34m\u001b[0m\u001b[0;34m\u001b[0m\u001b[0m\n\u001b[0;32m---> 15\u001b[0;31m     \u001b[0merr\u001b[0m \u001b[0;34m=\u001b[0m \u001b[0mnorm\u001b[0m\u001b[0;34m(\u001b[0m\u001b[0msolver\u001b[0m\u001b[0;34m.\u001b[0m\u001b[0msolexacte\u001b[0m\u001b[0;34m,\u001b[0m \u001b[0mappr\u001b[0m\u001b[0;34m)\u001b[0m\u001b[0;34m\u001b[0m\u001b[0;34m\u001b[0m\u001b[0m\n\u001b[0m\u001b[1;32m     16\u001b[0m     \u001b[0;31m#plt.plot(maill, solver.solexacte/max_value)\u001b[0m\u001b[0;34m\u001b[0m\u001b[0;34m\u001b[0m\u001b[0;34m\u001b[0m\u001b[0m\n\u001b[1;32m     17\u001b[0m     \u001b[0mplt\u001b[0m\u001b[0;34m.\u001b[0m\u001b[0mlegend\u001b[0m\u001b[0;34m(\u001b[0m\u001b[0;34m[\u001b[0m\u001b[0;34m'Solution Approchée'\u001b[0m\u001b[0;34m,\u001b[0m \u001b[0;34m'Solution Exacte'\u001b[0m\u001b[0;34m]\u001b[0m\u001b[0;34m)\u001b[0m\u001b[0;34m\u001b[0m\u001b[0;34m\u001b[0m\u001b[0m\n",
      "\u001b[0;32m<ipython-input-3-d12272201674>\u001b[0m in \u001b[0;36mnorm\u001b[0;34m(exact_solution, approximated_solution)\u001b[0m\n\u001b[1;32m      1\u001b[0m \u001b[0;31m# Norme utilisé pour les tests avec les fonctions non nulles simple\u001b[0m\u001b[0;34m\u001b[0m\u001b[0;34m\u001b[0m\u001b[0;34m\u001b[0m\u001b[0m\n\u001b[1;32m      2\u001b[0m \u001b[0;32mdef\u001b[0m \u001b[0mnorm\u001b[0m\u001b[0;34m(\u001b[0m\u001b[0mexact_solution\u001b[0m\u001b[0;34m,\u001b[0m  \u001b[0mapproximated_solution\u001b[0m\u001b[0;34m)\u001b[0m\u001b[0;34m:\u001b[0m\u001b[0;34m\u001b[0m\u001b[0;34m\u001b[0m\u001b[0m\n\u001b[0;32m----> 3\u001b[0;31m     \u001b[0;32mreturn\u001b[0m \u001b[0mnp\u001b[0m\u001b[0;34m.\u001b[0m\u001b[0mlinalg\u001b[0m\u001b[0;34m.\u001b[0m\u001b[0mnorm\u001b[0m\u001b[0;34m(\u001b[0m\u001b[0mexact_solution\u001b[0m \u001b[0;34m-\u001b[0m \u001b[0mapproximated_solution\u001b[0m\u001b[0;34m)\u001b[0m \u001b[0;34m/\u001b[0m \u001b[0mnp\u001b[0m\u001b[0;34m.\u001b[0m\u001b[0mlinalg\u001b[0m\u001b[0;34m.\u001b[0m\u001b[0mnorm\u001b[0m\u001b[0;34m(\u001b[0m\u001b[0mexact_solution\u001b[0m\u001b[0;34m)\u001b[0m\u001b[0;34m\u001b[0m\u001b[0;34m\u001b[0m\u001b[0m\n\u001b[0m",
      "\u001b[0;31mValueError\u001b[0m: operands could not be broadcast together with shapes (299,) (289,) "
     ]
    },
    {
     "data": {
      "image/png": "[encoded data removed]",
      "text/plain": [
       "<Figure size 432x288 with 1 Axes>"
      ]
     },
     "metadata": {
      "needs_background": "light"
     },
     "output_type": "display_data"
    }
   ],
   "source": [
    "# Données de test\n",
    "DE   = [{'DE' : 'f(x) = 0 , a = 1 , b = 1 , n = 5 , tol = 1E-8 -> u(x) = 1 ', 'f': lambda x: 1, 'u': lambda x: 1, 'n': 5 , 'a' :1 , 'b' : 1, 'tol': 1E-8},\n",
    "        {'DE' : 'f(x) = 0 , a = 0 , b = 1 , n = 5 , tol = 1E-8 -> u(x) = 1 ', 'f': lambda x: x+1, 'u': lambda x: x, 'n': 5 , 'a' :1 , 'b' : 1, 'tol': 1E-8},\n",
    "        {'DE' : 'f(x) = -2 , a = 0 , b = 1 , n = 5 , tol = 1E-8 -> u(x) = x^2'  ,'f': lambda x: x**2+2*x-2, 'u': lambda x: (x**2) , 'n': 5, 'a' :1 , 'b' : 1, 'tol': 1E-8 }\n",
    "      ]\n",
    "\n",
    "for i in range(0, len(DE)):\n",
    "    print( 'Test ',i , ':',DE[i]['DE'])\n",
    "    print( '\\t Is it OK ?  ' ,  testFunctionSimple(DE[i]['f'], DE[i]['u'], DE[i]['a'], DE[i]['b'], DE[i]['n'], DE[i]['tol'] ),'\\n')\n",
    "    courbe(DE[i]['f'], DE[i]['u'], 20, 300 , DE[i]['a'], DE[i]['b'] )"
   ]
  },
  {
   "cell_type": "code",
   "execution_count": null,
   "metadata": {},
   "outputs": [],
   "source": []
  }
 ],
 "metadata": {
  "kernelspec": {
   "display_name": "Python 3",
   "language": "python",
   "name": "python3"
  },
  "language_info": {
   "codemirror_mode": {
    "name": "ipython",
    "version": 3
   },
   "file_extension": ".py",
   "mimetype": "text/x-python",
   "name": "python",
   "nbconvert_exporter": "python",
   "pygments_lexer": "ipython3",
   "version": "3.8.3"
  }
 },
 "nbformat": 4,
 "nbformat_minor": 4
}
